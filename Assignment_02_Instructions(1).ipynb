{
  "cells": [
    {
      "cell_type": "markdown",
      "metadata": {
        "id": "view-in-github",
        "colab_type": "text"
      },
      "source": [
        "<a href=\"https://colab.research.google.com/github/Roda152/101408170_COMP3123-week/blob/main/Assignment_02_Instructions(1).ipynb\" target=\"_parent\"><img src=\"https://colab.research.google.com/assets/colab-badge.svg\" alt=\"Open In Colab\"/></a>"
      ]
    },
    {
      "cell_type": "markdown",
      "metadata": {
        "id": "GdRF-CSJq5Yx"
      },
      "source": [
        "# Assignment 02\n",
        "The following assignment is a step-by-step process to implement a multiclass classification using Iris dataset.\n",
        "\n",
        "**Note:**\n",
        "\n",
        "- Please note that every question has 0.5 and it provides five out of total ten marks for the assignment. 5/10%\n",
        "\n",
        "The video presentation 5/10%.\n",
        "\n",
        "Without YouTube presentation you receive no mark for the submission.\n"
      ]
    },
    {
      "cell_type": "code",
      "execution_count": 1,
      "metadata": {
        "id": "NpsNfbeiqtC-"
      },
      "outputs": [],
      "source": [
        "#00 The iris.csv file (Iris dataset) is located in the Assignment folder below the current ipynb file."
      ]
    },
    {
      "cell_type": "markdown",
      "metadata": {
        "id": "YjARgMOGP5W7"
      },
      "source": [
        " **Important Note:** We are NOT allowed to import the dataset from Keras. We need to upload the provided iris.csv file to colab from our Google Drive."
      ]
    },
    {
      "cell_type": "code",
      "execution_count": 2,
      "metadata": {
        "id": "8cu01QQpGT32"
      },
      "outputs": [],
      "source": [
        "#00 1st, upload the iris.csv into your Google Drive (your Colab folder)."
      ]
    },
    {
      "cell_type": "code",
      "source": [
        "\n",
        "from google.colab import files\n",
        "\n",
        "uploaded = files.upload()"
      ],
      "metadata": {
        "colab": {
          "base_uri": "https://localhost:8080/",
          "height": 73
        },
        "id": "KN7u70dtRRuU",
        "outputId": "adcb2327-2ac1-4db8-a6d9-875e59740a72"
      },
      "execution_count": 3,
      "outputs": [
        {
          "output_type": "display_data",
          "data": {
            "text/plain": [
              "<IPython.core.display.HTML object>"
            ],
            "text/html": [
              "\n",
              "     <input type=\"file\" id=\"files-a75bb96c-036d-4782-80d4-477601f2bd82\" name=\"files[]\" multiple disabled\n",
              "        style=\"border:none\" />\n",
              "     <output id=\"result-a75bb96c-036d-4782-80d4-477601f2bd82\">\n",
              "      Upload widget is only available when the cell has been executed in the\n",
              "      current browser session. Please rerun this cell to enable.\n",
              "      </output>\n",
              "      <script>// Copyright 2017 Google LLC\n",
              "//\n",
              "// Licensed under the Apache License, Version 2.0 (the \"License\");\n",
              "// you may not use this file except in compliance with the License.\n",
              "// You may obtain a copy of the License at\n",
              "//\n",
              "//      http://www.apache.org/licenses/LICENSE-2.0\n",
              "//\n",
              "// Unless required by applicable law or agreed to in writing, software\n",
              "// distributed under the License is distributed on an \"AS IS\" BASIS,\n",
              "// WITHOUT WARRANTIES OR CONDITIONS OF ANY KIND, either express or implied.\n",
              "// See the License for the specific language governing permissions and\n",
              "// limitations under the License.\n",
              "\n",
              "/**\n",
              " * @fileoverview Helpers for google.colab Python module.\n",
              " */\n",
              "(function(scope) {\n",
              "function span(text, styleAttributes = {}) {\n",
              "  const element = document.createElement('span');\n",
              "  element.textContent = text;\n",
              "  for (const key of Object.keys(styleAttributes)) {\n",
              "    element.style[key] = styleAttributes[key];\n",
              "  }\n",
              "  return element;\n",
              "}\n",
              "\n",
              "// Max number of bytes which will be uploaded at a time.\n",
              "const MAX_PAYLOAD_SIZE = 100 * 1024;\n",
              "\n",
              "function _uploadFiles(inputId, outputId) {\n",
              "  const steps = uploadFilesStep(inputId, outputId);\n",
              "  const outputElement = document.getElementById(outputId);\n",
              "  // Cache steps on the outputElement to make it available for the next call\n",
              "  // to uploadFilesContinue from Python.\n",
              "  outputElement.steps = steps;\n",
              "\n",
              "  return _uploadFilesContinue(outputId);\n",
              "}\n",
              "\n",
              "// This is roughly an async generator (not supported in the browser yet),\n",
              "// where there are multiple asynchronous steps and the Python side is going\n",
              "// to poll for completion of each step.\n",
              "// This uses a Promise to block the python side on completion of each step,\n",
              "// then passes the result of the previous step as the input to the next step.\n",
              "function _uploadFilesContinue(outputId) {\n",
              "  const outputElement = document.getElementById(outputId);\n",
              "  const steps = outputElement.steps;\n",
              "\n",
              "  const next = steps.next(outputElement.lastPromiseValue);\n",
              "  return Promise.resolve(next.value.promise).then((value) => {\n",
              "    // Cache the last promise value to make it available to the next\n",
              "    // step of the generator.\n",
              "    outputElement.lastPromiseValue = value;\n",
              "    return next.value.response;\n",
              "  });\n",
              "}\n",
              "\n",
              "/**\n",
              " * Generator function which is called between each async step of the upload\n",
              " * process.\n",
              " * @param {string} inputId Element ID of the input file picker element.\n",
              " * @param {string} outputId Element ID of the output display.\n",
              " * @return {!Iterable<!Object>} Iterable of next steps.\n",
              " */\n",
              "function* uploadFilesStep(inputId, outputId) {\n",
              "  const inputElement = document.getElementById(inputId);\n",
              "  inputElement.disabled = false;\n",
              "\n",
              "  const outputElement = document.getElementById(outputId);\n",
              "  outputElement.innerHTML = '';\n",
              "\n",
              "  const pickedPromise = new Promise((resolve) => {\n",
              "    inputElement.addEventListener('change', (e) => {\n",
              "      resolve(e.target.files);\n",
              "    });\n",
              "  });\n",
              "\n",
              "  const cancel = document.createElement('button');\n",
              "  inputElement.parentElement.appendChild(cancel);\n",
              "  cancel.textContent = 'Cancel upload';\n",
              "  const cancelPromise = new Promise((resolve) => {\n",
              "    cancel.onclick = () => {\n",
              "      resolve(null);\n",
              "    };\n",
              "  });\n",
              "\n",
              "  // Wait for the user to pick the files.\n",
              "  const files = yield {\n",
              "    promise: Promise.race([pickedPromise, cancelPromise]),\n",
              "    response: {\n",
              "      action: 'starting',\n",
              "    }\n",
              "  };\n",
              "\n",
              "  cancel.remove();\n",
              "\n",
              "  // Disable the input element since further picks are not allowed.\n",
              "  inputElement.disabled = true;\n",
              "\n",
              "  if (!files) {\n",
              "    return {\n",
              "      response: {\n",
              "        action: 'complete',\n",
              "      }\n",
              "    };\n",
              "  }\n",
              "\n",
              "  for (const file of files) {\n",
              "    const li = document.createElement('li');\n",
              "    li.append(span(file.name, {fontWeight: 'bold'}));\n",
              "    li.append(span(\n",
              "        `(${file.type || 'n/a'}) - ${file.size} bytes, ` +\n",
              "        `last modified: ${\n",
              "            file.lastModifiedDate ? file.lastModifiedDate.toLocaleDateString() :\n",
              "                                    'n/a'} - `));\n",
              "    const percent = span('0% done');\n",
              "    li.appendChild(percent);\n",
              "\n",
              "    outputElement.appendChild(li);\n",
              "\n",
              "    const fileDataPromise = new Promise((resolve) => {\n",
              "      const reader = new FileReader();\n",
              "      reader.onload = (e) => {\n",
              "        resolve(e.target.result);\n",
              "      };\n",
              "      reader.readAsArrayBuffer(file);\n",
              "    });\n",
              "    // Wait for the data to be ready.\n",
              "    let fileData = yield {\n",
              "      promise: fileDataPromise,\n",
              "      response: {\n",
              "        action: 'continue',\n",
              "      }\n",
              "    };\n",
              "\n",
              "    // Use a chunked sending to avoid message size limits. See b/62115660.\n",
              "    let position = 0;\n",
              "    do {\n",
              "      const length = Math.min(fileData.byteLength - position, MAX_PAYLOAD_SIZE);\n",
              "      const chunk = new Uint8Array(fileData, position, length);\n",
              "      position += length;\n",
              "\n",
              "      const base64 = btoa(String.fromCharCode.apply(null, chunk));\n",
              "      yield {\n",
              "        response: {\n",
              "          action: 'append',\n",
              "          file: file.name,\n",
              "          data: base64,\n",
              "        },\n",
              "      };\n",
              "\n",
              "      let percentDone = fileData.byteLength === 0 ?\n",
              "          100 :\n",
              "          Math.round((position / fileData.byteLength) * 100);\n",
              "      percent.textContent = `${percentDone}% done`;\n",
              "\n",
              "    } while (position < fileData.byteLength);\n",
              "  }\n",
              "\n",
              "  // All done.\n",
              "  yield {\n",
              "    response: {\n",
              "      action: 'complete',\n",
              "    }\n",
              "  };\n",
              "}\n",
              "\n",
              "scope.google = scope.google || {};\n",
              "scope.google.colab = scope.google.colab || {};\n",
              "scope.google.colab._files = {\n",
              "  _uploadFiles,\n",
              "  _uploadFilesContinue,\n",
              "};\n",
              "})(self);\n",
              "</script> "
            ]
          },
          "metadata": {}
        },
        {
          "output_type": "stream",
          "name": "stdout",
          "text": [
            "Saving Assignment_02_iris.csv to Assignment_02_iris (1).csv\n"
          ]
        }
      ]
    },
    {
      "cell_type": "code",
      "execution_count": 4,
      "metadata": {
        "id": "-PrhESFFHEQc"
      },
      "outputs": [],
      "source": [
        "#01-a Find the path of iris.csv file, and save it in a variable called fileName."
      ]
    },
    {
      "cell_type": "code",
      "execution_count": 5,
      "metadata": {
        "id": "5-1y84ZDG2PU",
        "colab": {
          "base_uri": "https://localhost:8080/"
        },
        "outputId": "4711bd7c-0242-4eca-a93c-c5ea43252620"
      },
      "outputs": [
        {
          "output_type": "stream",
          "name": "stdout",
          "text": [
            "File path: /content/iris.csv\n"
          ]
        }
      ],
      "source": [
        "fileName = \"/content/iris.csv\"\n",
        "print(\"File path:\", fileName)\n",
        "\n"
      ]
    },
    {
      "cell_type": "code",
      "execution_count": 6,
      "metadata": {
        "id": "EpPebb_uHCcU"
      },
      "outputs": [],
      "source": [
        "#01-b Read the content of the iris.csv file and save it in a variable, named iris."
      ]
    },
    {
      "cell_type": "code",
      "execution_count": 7,
      "metadata": {
        "id": "o-Wps1uaHt4H",
        "colab": {
          "base_uri": "https://localhost:8080/"
        },
        "outputId": "c5d092b1-9ea0-4d4a-d0ab-bcb37d5150d5"
      },
      "outputs": [
        {
          "output_type": "stream",
          "name": "stdout",
          "text": [
            "   sepal_length  sepal_width  petal_length  petal_width species\n",
            "0           5.1          3.5           1.4          0.2  setosa\n",
            "1           4.9          3.0           1.4          0.2  setosa\n",
            "2           4.7          3.2           1.3          0.2  setosa\n",
            "3           4.6          3.1           1.5          0.2  setosa\n",
            "4           5.0          3.6           1.4          0.2  setosa\n"
          ]
        }
      ],
      "source": [
        "\n",
        "import pandas as pd\n",
        "\n",
        "fileName = \"Assignment_02_iris.csv\"  # File will be in the current directory\n",
        "iris = pd.read_csv(fileName)\n",
        "\n",
        "print(iris.head())\n"
      ]
    },
    {
      "cell_type": "code",
      "execution_count": 8,
      "metadata": {
        "id": "Z0cqURBWHowB",
        "colab": {
          "base_uri": "https://localhost:8080/"
        },
        "outputId": "e6eb09a3-547c-44e6-ea96-703801f6c95d"
      },
      "outputs": [
        {
          "output_type": "stream",
          "name": "stdout",
          "text": [
            "(150, 5)\n",
            "Index(['sepal_length', 'sepal_width', 'petal_length', 'petal_width',\n",
            "       'species'],\n",
            "      dtype='object')\n"
          ]
        }
      ],
      "source": [
        "print(iris.shape)  # Outputs (rows, columns)\n",
        "print(iris.columns)  # Displays column names\n"
      ]
    },
    {
      "cell_type": "code",
      "execution_count": 9,
      "metadata": {
        "id": "4REixnacH0NT"
      },
      "outputs": [],
      "source": [
        "#01-c Show the first 5 rows of the dataframe."
      ]
    },
    {
      "cell_type": "code",
      "execution_count": 10,
      "metadata": {
        "id": "M5oKPwinH_WM",
        "colab": {
          "base_uri": "https://localhost:8080/"
        },
        "outputId": "c6150487-ffda-4695-82c0-0df1cb9da8f4"
      },
      "outputs": [
        {
          "output_type": "stream",
          "name": "stdout",
          "text": [
            "   sepal_length  sepal_width  petal_length  petal_width species\n",
            "0           5.1          3.5           1.4          0.2  setosa\n",
            "1           4.9          3.0           1.4          0.2  setosa\n",
            "2           4.7          3.2           1.3          0.2  setosa\n",
            "3           4.6          3.1           1.5          0.2  setosa\n",
            "4           5.0          3.6           1.4          0.2  setosa\n"
          ]
        }
      ],
      "source": [
        "print(iris.head())\n"
      ]
    },
    {
      "cell_type": "markdown",
      "metadata": {
        "id": "uPslwnx5VlhI"
      },
      "source": [
        "As you see, the last column contains strings. We want to convert these strings to integers,  and we can work with them easily in our Neural Network model.\n",
        "\n",
        "setosa -> 0\n",
        "\n",
        "versicolor -> 1\n",
        "\n",
        "virginica -> 2"
      ]
    },
    {
      "cell_type": "code",
      "execution_count": 11,
      "metadata": {
        "id": "XaQ9lvJlW63F"
      },
      "outputs": [],
      "source": [
        "#2-a Convert the last column strings to integers, as\n",
        "# setosa -> 0\n",
        "# versicolor -> 1\n",
        "# virginica -> 2"
      ]
    },
    {
      "cell_type": "code",
      "execution_count": 12,
      "metadata": {
        "id": "Ko7gGrfvXE5K"
      },
      "outputs": [],
      "source": [
        "# Map species names to integers\n",
        "species_mapping = {'setosa': 0, 'versicolor': 1, 'virginica': 2}\n",
        "iris.iloc[:, -1] = iris.iloc[:, -1].map(species_mapping)\n"
      ]
    },
    {
      "cell_type": "code",
      "execution_count": 13,
      "metadata": {
        "id": "XAyTi33hXUEX",
        "colab": {
          "base_uri": "https://localhost:8080/"
        },
        "outputId": "a2590e90-99ba-4ae7-b3b4-5c0425c61406"
      },
      "outputs": [
        {
          "output_type": "stream",
          "name": "stdout",
          "text": [
            "   sepal_length  sepal_width  petal_length  petal_width species\n",
            "0           5.1          3.5           1.4          0.2       0\n",
            "1           4.9          3.0           1.4          0.2       0\n",
            "2           4.7          3.2           1.3          0.2       0\n",
            "3           4.6          3.1           1.5          0.2       0\n",
            "4           5.0          3.6           1.4          0.2       0\n"
          ]
        }
      ],
      "source": [
        "# Check if the mapping was successful\n",
        "print(iris.head())\n"
      ]
    },
    {
      "cell_type": "code",
      "execution_count": 14,
      "metadata": {
        "id": "LtRXugkCXVmm"
      },
      "outputs": [],
      "source": [
        "#2-b Now, check the first 5 elements of the iris dataset once again:"
      ]
    },
    {
      "cell_type": "code",
      "execution_count": 15,
      "metadata": {
        "id": "Vpzx6GfcXWIT",
        "colab": {
          "base_uri": "https://localhost:8080/"
        },
        "outputId": "7b34fa55-a7e7-4146-dea8-20c0cdfd5f09"
      },
      "outputs": [
        {
          "output_type": "stream",
          "name": "stdout",
          "text": [
            "   sepal_length  sepal_width  petal_length  petal_width species\n",
            "0           5.1          3.5           1.4          0.2       0\n",
            "1           4.9          3.0           1.4          0.2       0\n",
            "2           4.7          3.2           1.3          0.2       0\n",
            "3           4.6          3.1           1.5          0.2       0\n",
            "4           5.0          3.6           1.4          0.2       0\n"
          ]
        }
      ],
      "source": [
        "print(iris.head())"
      ]
    },
    {
      "cell_type": "code",
      "execution_count": 16,
      "metadata": {
        "id": "QVQ8ZY8DIAmE"
      },
      "outputs": [],
      "source": [
        "#03-a Select the first four columns of the dataframe as the Data and call the data x."
      ]
    },
    {
      "cell_type": "code",
      "execution_count": 17,
      "metadata": {
        "id": "QJzxWYKBVPMD",
        "colab": {
          "base_uri": "https://localhost:8080/"
        },
        "outputId": "24c2b7c0-6328-4827-cf1c-ac061443dbc6"
      },
      "outputs": [
        {
          "output_type": "stream",
          "name": "stdout",
          "text": [
            "   sepal_length  sepal_width  petal_length  petal_width\n",
            "0           5.1          3.5           1.4          0.2\n",
            "1           4.9          3.0           1.4          0.2\n",
            "2           4.7          3.2           1.3          0.2\n",
            "3           4.6          3.1           1.5          0.2\n",
            "4           5.0          3.6           1.4          0.2\n"
          ]
        }
      ],
      "source": [
        "x = iris.iloc[:, :4]\n",
        "print(x.head())\n"
      ]
    },
    {
      "cell_type": "code",
      "execution_count": 18,
      "metadata": {
        "id": "ZfFlo9wlVRp_"
      },
      "outputs": [],
      "source": [
        "#03-b Select the last column as the label and call it y."
      ]
    },
    {
      "cell_type": "code",
      "execution_count": 19,
      "metadata": {
        "id": "f9CqfICuVZHu",
        "colab": {
          "base_uri": "https://localhost:8080/"
        },
        "outputId": "32fd7653-2672-4ce4-f8c2-d35830c4bc14"
      },
      "outputs": [
        {
          "output_type": "stream",
          "name": "stdout",
          "text": [
            "0    0\n",
            "1    0\n",
            "2    0\n",
            "3    0\n",
            "4    0\n",
            "Name: species, dtype: object\n"
          ]
        }
      ],
      "source": [
        "y = iris.iloc[:, -1]\n",
        "print(y.head())\n"
      ]
    },
    {
      "cell_type": "code",
      "execution_count": 20,
      "metadata": {
        "id": "zoNx--BaVa5D"
      },
      "outputs": [],
      "source": [
        "#04 Now, it is the time to split the data (x) and the label (y) into training and testin segments,\n",
        "#   and call them parts x_train,x_test,y_train,y_test."
      ]
    },
    {
      "cell_type": "code",
      "execution_count": 21,
      "metadata": {
        "id": "EVywDl4cYB98"
      },
      "outputs": [],
      "source": [
        "#04-a Split the data, and label ito training and testing segments, while the size of test data is 20%,\n",
        "#     and use randome_state = 123 to make all the answers similar in the whole class."
      ]
    },
    {
      "cell_type": "code",
      "execution_count": 22,
      "metadata": {
        "id": "FutX0zffZcMC"
      },
      "outputs": [],
      "source": [
        "from sklearn.model_selection import train_test_split\n"
      ]
    },
    {
      "cell_type": "code",
      "execution_count": 23,
      "metadata": {
        "id": "XYRLG2c8ZdqQ"
      },
      "outputs": [],
      "source": [
        "x_train, x_test, y_train, y_test = train_test_split(x, y, test_size=0.2, random_state=123)"
      ]
    },
    {
      "cell_type": "code",
      "execution_count": 24,
      "metadata": {
        "id": "KaJUAiuTZgoe"
      },
      "outputs": [],
      "source": [
        "#04-b Check the first five rows of  x_train,x_test,y_train,y_test."
      ]
    },
    {
      "cell_type": "code",
      "execution_count": 25,
      "metadata": {
        "id": "Tol7L4eyZyc0",
        "colab": {
          "base_uri": "https://localhost:8080/"
        },
        "outputId": "3a0c32b3-2299-4285-eb09-37fb8e1ec0ba"
      },
      "outputs": [
        {
          "output_type": "stream",
          "name": "stdout",
          "text": [
            "x_train head:\n",
            "     sepal_length  sepal_width  petal_length  petal_width\n",
            "130           7.4          2.8           6.1          1.9\n",
            "119           6.0          2.2           5.0          1.5\n",
            "29            4.7          3.2           1.6          0.2\n",
            "0             5.1          3.5           1.4          0.2\n",
            "62            6.0          2.2           4.0          1.0\n"
          ]
        }
      ],
      "source": [
        "print(\"x_train head:\")\n",
        "print(x_train.head())"
      ]
    },
    {
      "cell_type": "code",
      "execution_count": 26,
      "metadata": {
        "id": "avm95SyVZ0K9",
        "colab": {
          "base_uri": "https://localhost:8080/"
        },
        "outputId": "c5991c44-8b70-49b2-ef6f-e723134d3bfd"
      },
      "outputs": [
        {
          "output_type": "stream",
          "name": "stdout",
          "text": [
            "\n",
            "y_train head:\n",
            "130    2\n",
            "119    2\n",
            "29     0\n",
            "0      0\n",
            "62     1\n",
            "Name: species, dtype: object\n"
          ]
        }
      ],
      "source": [
        "print(\"\\ny_train head:\")\n",
        "print(y_train.head())"
      ]
    },
    {
      "cell_type": "code",
      "execution_count": 27,
      "metadata": {
        "id": "zoGgPpQnZ3N0",
        "colab": {
          "base_uri": "https://localhost:8080/"
        },
        "outputId": "86e724f8-2b56-4bbc-e231-27611b5b6507"
      },
      "outputs": [
        {
          "output_type": "stream",
          "name": "stdout",
          "text": [
            "\n",
            "x_test head:\n",
            "     sepal_length  sepal_width  petal_length  petal_width\n",
            "72            6.3          2.5           4.9          1.5\n",
            "112           6.8          3.0           5.5          2.1\n",
            "132           6.4          2.8           5.6          2.2\n",
            "88            5.6          3.0           4.1          1.3\n",
            "37            4.9          3.1           1.5          0.1\n"
          ]
        }
      ],
      "source": [
        "print(\"\\nx_test head:\")\n",
        "print(x_test.head())"
      ]
    },
    {
      "cell_type": "code",
      "execution_count": 28,
      "metadata": {
        "id": "iDabPofuZ5SO",
        "colab": {
          "base_uri": "https://localhost:8080/"
        },
        "outputId": "8a3d24dc-46e5-4fb1-e501-c6452310a191"
      },
      "outputs": [
        {
          "output_type": "stream",
          "name": "stdout",
          "text": [
            "\n",
            "y_test head:\n",
            "72     1\n",
            "112    2\n",
            "132    2\n",
            "88     1\n",
            "37     0\n",
            "Name: species, dtype: object\n"
          ]
        }
      ],
      "source": [
        "print(\"\\ny_test head:\")\n",
        "print(y_test.head())"
      ]
    },
    {
      "cell_type": "code",
      "execution_count": 29,
      "metadata": {
        "id": "wUHaE8fJbg8w"
      },
      "outputs": [],
      "source": [
        "#04-c Check the length of the x_train and x_test. If the numbers are 120 & 30, AWESOME!\n",
        "#     You are good to continue!"
      ]
    },
    {
      "cell_type": "code",
      "execution_count": 30,
      "metadata": {
        "id": "k_-kNMocbgsv",
        "colab": {
          "base_uri": "https://localhost:8080/"
        },
        "outputId": "473f5229-92c0-4bb1-f226-e0cea1d5769f"
      },
      "outputs": [
        {
          "output_type": "stream",
          "name": "stdout",
          "text": [
            "Length of x_train: 120\n"
          ]
        }
      ],
      "source": [
        "print(\"Length of x_train:\", len(x_train))\n"
      ]
    },
    {
      "cell_type": "code",
      "execution_count": 31,
      "metadata": {
        "id": "GgEi1h-rbgcM",
        "colab": {
          "base_uri": "https://localhost:8080/"
        },
        "outputId": "fa8b5a22-b0f9-4c1b-85b3-287c4d14d229"
      },
      "outputs": [
        {
          "output_type": "stream",
          "name": "stdout",
          "text": [
            "Length of x_test: 30\n"
          ]
        }
      ],
      "source": [
        "print(\"Length of x_test:\", len(x_test))\n"
      ]
    },
    {
      "cell_type": "code",
      "execution_count": 32,
      "metadata": {
        "id": "tEdcdmEWZ6W-"
      },
      "outputs": [],
      "source": [
        "#05-a Convert y_train and y_test from categorical to one-hot encoded values, and call them\n",
        "#     one_hot_train_labels, and one_hot_test_labels, respectively."
      ]
    },
    {
      "cell_type": "code",
      "execution_count": 33,
      "metadata": {
        "id": "fVJ8Kn4kbXBF",
        "colab": {
          "base_uri": "https://localhost:8080/"
        },
        "outputId": "7cab5d7a-8af5-433e-b1f2-b259fb6cd441"
      },
      "outputs": [
        {
          "output_type": "stream",
          "name": "stdout",
          "text": [
            "Shape of one_hot_train_labels: (120, 3)\n",
            "Shape of one_hot_test_labels: (30, 3)\n"
          ]
        }
      ],
      "source": [
        "from sklearn.preprocessing import OneHotEncoder\n",
        "\n",
        "\n",
        "encoder = OneHotEncoder(sparse_output=False)\n",
        "\n",
        "\n",
        "one_hot_train_labels = encoder.fit_transform(y_train.values.reshape(-1, 1))\n",
        "one_hot_test_labels = encoder.transform(y_test.values.reshape(-1, 1))\n",
        "\n",
        "\n",
        "print(\"Shape of one_hot_train_labels:\", one_hot_train_labels.shape)\n",
        "print(\"Shape of one_hot_test_labels:\", one_hot_test_labels.shape)"
      ]
    },
    {
      "cell_type": "code",
      "execution_count": 34,
      "metadata": {
        "id": "QL4-xxR9bZP1"
      },
      "outputs": [],
      "source": [
        "#06-a Define a sequential model that contains 3 dense layers.\n",
        "#     In the first and second layers, use 100 hidden units (neurons) and a 'relu' activation function.\n",
        "#     For the last layer, we need to use 3 as the number of output,\n",
        "#     and the reason is we have three classes (setosa -> 0, versicolor -> 1, virginica -> 2)\n",
        "#     Also, please pick an appropriate loss function for the last layer.\n",
        "#     (You may already have guessed what could be the best loss function when we have converted the categorical values to encoded values.)"
      ]
    },
    {
      "cell_type": "code",
      "execution_count": 35,
      "metadata": {
        "id": "6l5Rqmy3uPbu",
        "colab": {
          "base_uri": "https://localhost:8080/",
          "height": 293
        },
        "outputId": "b985fc05-f1a9-4aa0-b75f-8f1ce2d02386"
      },
      "outputs": [
        {
          "output_type": "stream",
          "name": "stderr",
          "text": [
            "/usr/local/lib/python3.11/dist-packages/keras/src/layers/core/dense.py:87: UserWarning: Do not pass an `input_shape`/`input_dim` argument to a layer. When using Sequential models, prefer using an `Input(shape)` object as the first layer in the model instead.\n",
            "  super().__init__(activity_regularizer=activity_regularizer, **kwargs)\n"
          ]
        },
        {
          "output_type": "display_data",
          "data": {
            "text/plain": [
              "\u001b[1mModel: \"sequential\"\u001b[0m\n"
            ],
            "text/html": [
              "<pre style=\"white-space:pre;overflow-x:auto;line-height:normal;font-family:Menlo,'DejaVu Sans Mono',consolas,'Courier New',monospace\"><span style=\"font-weight: bold\">Model: \"sequential\"</span>\n",
              "</pre>\n"
            ]
          },
          "metadata": {}
        },
        {
          "output_type": "display_data",
          "data": {
            "text/plain": [
              "┏━━━━━━━━━━━━━━━━━━━━━━━━━━━━━━━━━━━━━━┳━━━━━━━━━━━━━━━━━━━━━━━━━━━━━┳━━━━━━━━━━━━━━━━━┓\n",
              "┃\u001b[1m \u001b[0m\u001b[1mLayer (type)                        \u001b[0m\u001b[1m \u001b[0m┃\u001b[1m \u001b[0m\u001b[1mOutput Shape               \u001b[0m\u001b[1m \u001b[0m┃\u001b[1m \u001b[0m\u001b[1m        Param #\u001b[0m\u001b[1m \u001b[0m┃\n",
              "┡━━━━━━━━━━━━━━━━━━━━━━━━━━━━━━━━━━━━━━╇━━━━━━━━━━━━━━━━━━━━━━━━━━━━━╇━━━━━━━━━━━━━━━━━┩\n",
              "│ dense (\u001b[38;5;33mDense\u001b[0m)                        │ (\u001b[38;5;45mNone\u001b[0m, \u001b[38;5;34m100\u001b[0m)                 │             \u001b[38;5;34m500\u001b[0m │\n",
              "├──────────────────────────────────────┼─────────────────────────────┼─────────────────┤\n",
              "│ dense_1 (\u001b[38;5;33mDense\u001b[0m)                      │ (\u001b[38;5;45mNone\u001b[0m, \u001b[38;5;34m100\u001b[0m)                 │          \u001b[38;5;34m10,100\u001b[0m │\n",
              "├──────────────────────────────────────┼─────────────────────────────┼─────────────────┤\n",
              "│ dense_2 (\u001b[38;5;33mDense\u001b[0m)                      │ (\u001b[38;5;45mNone\u001b[0m, \u001b[38;5;34m3\u001b[0m)                   │             \u001b[38;5;34m303\u001b[0m │\n",
              "└──────────────────────────────────────┴─────────────────────────────┴─────────────────┘\n"
            ],
            "text/html": [
              "<pre style=\"white-space:pre;overflow-x:auto;line-height:normal;font-family:Menlo,'DejaVu Sans Mono',consolas,'Courier New',monospace\">┏━━━━━━━━━━━━━━━━━━━━━━━━━━━━━━━━━━━━━━┳━━━━━━━━━━━━━━━━━━━━━━━━━━━━━┳━━━━━━━━━━━━━━━━━┓\n",
              "┃<span style=\"font-weight: bold\"> Layer (type)                         </span>┃<span style=\"font-weight: bold\"> Output Shape                </span>┃<span style=\"font-weight: bold\">         Param # </span>┃\n",
              "┡━━━━━━━━━━━━━━━━━━━━━━━━━━━━━━━━━━━━━━╇━━━━━━━━━━━━━━━━━━━━━━━━━━━━━╇━━━━━━━━━━━━━━━━━┩\n",
              "│ dense (<span style=\"color: #0087ff; text-decoration-color: #0087ff\">Dense</span>)                        │ (<span style=\"color: #00d7ff; text-decoration-color: #00d7ff\">None</span>, <span style=\"color: #00af00; text-decoration-color: #00af00\">100</span>)                 │             <span style=\"color: #00af00; text-decoration-color: #00af00\">500</span> │\n",
              "├──────────────────────────────────────┼─────────────────────────────┼─────────────────┤\n",
              "│ dense_1 (<span style=\"color: #0087ff; text-decoration-color: #0087ff\">Dense</span>)                      │ (<span style=\"color: #00d7ff; text-decoration-color: #00d7ff\">None</span>, <span style=\"color: #00af00; text-decoration-color: #00af00\">100</span>)                 │          <span style=\"color: #00af00; text-decoration-color: #00af00\">10,100</span> │\n",
              "├──────────────────────────────────────┼─────────────────────────────┼─────────────────┤\n",
              "│ dense_2 (<span style=\"color: #0087ff; text-decoration-color: #0087ff\">Dense</span>)                      │ (<span style=\"color: #00d7ff; text-decoration-color: #00d7ff\">None</span>, <span style=\"color: #00af00; text-decoration-color: #00af00\">3</span>)                   │             <span style=\"color: #00af00; text-decoration-color: #00af00\">303</span> │\n",
              "└──────────────────────────────────────┴─────────────────────────────┴─────────────────┘\n",
              "</pre>\n"
            ]
          },
          "metadata": {}
        },
        {
          "output_type": "display_data",
          "data": {
            "text/plain": [
              "\u001b[1m Total params: \u001b[0m\u001b[38;5;34m10,903\u001b[0m (42.59 KB)\n"
            ],
            "text/html": [
              "<pre style=\"white-space:pre;overflow-x:auto;line-height:normal;font-family:Menlo,'DejaVu Sans Mono',consolas,'Courier New',monospace\"><span style=\"font-weight: bold\"> Total params: </span><span style=\"color: #00af00; text-decoration-color: #00af00\">10,903</span> (42.59 KB)\n",
              "</pre>\n"
            ]
          },
          "metadata": {}
        },
        {
          "output_type": "display_data",
          "data": {
            "text/plain": [
              "\u001b[1m Trainable params: \u001b[0m\u001b[38;5;34m10,903\u001b[0m (42.59 KB)\n"
            ],
            "text/html": [
              "<pre style=\"white-space:pre;overflow-x:auto;line-height:normal;font-family:Menlo,'DejaVu Sans Mono',consolas,'Courier New',monospace\"><span style=\"font-weight: bold\"> Trainable params: </span><span style=\"color: #00af00; text-decoration-color: #00af00\">10,903</span> (42.59 KB)\n",
              "</pre>\n"
            ]
          },
          "metadata": {}
        },
        {
          "output_type": "display_data",
          "data": {
            "text/plain": [
              "\u001b[1m Non-trainable params: \u001b[0m\u001b[38;5;34m0\u001b[0m (0.00 B)\n"
            ],
            "text/html": [
              "<pre style=\"white-space:pre;overflow-x:auto;line-height:normal;font-family:Menlo,'DejaVu Sans Mono',consolas,'Courier New',monospace\"><span style=\"font-weight: bold\"> Non-trainable params: </span><span style=\"color: #00af00; text-decoration-color: #00af00\">0</span> (0.00 B)\n",
              "</pre>\n"
            ]
          },
          "metadata": {}
        }
      ],
      "source": [
        "from keras.models import Sequential\n",
        "from keras.layers import Dense\n",
        "\n",
        "\n",
        "model = Sequential()\n",
        "model.add(Dense(100, input_dim=x_train.shape[1], activation='relu'))\n",
        "model.add(Dense(100, activation='relu'))\n",
        "model.add(Dense(3, activation='softmax'))\n",
        "model.compile(optimizer='adam', loss='categorical_crossentropy', metrics=['accuracy'])\n",
        "model.summary()\n"
      ]
    },
    {
      "cell_type": "code",
      "execution_count": 36,
      "metadata": {
        "id": "GCtYDS08wZY_"
      },
      "outputs": [],
      "source": [
        "#06-b Now, compile your model using the 'rmsprop' optimizer, an appropriate loss function, and 'accuracy' for your metrics."
      ]
    },
    {
      "cell_type": "code",
      "execution_count": 37,
      "metadata": {
        "id": "P8xNko36wx2d",
        "colab": {
          "base_uri": "https://localhost:8080/",
          "height": 238
        },
        "outputId": "23bdc243-d9be-495a-83c0-e502f03a5f10"
      },
      "outputs": [
        {
          "output_type": "display_data",
          "data": {
            "text/plain": [
              "\u001b[1mModel: \"sequential\"\u001b[0m\n"
            ],
            "text/html": [
              "<pre style=\"white-space:pre;overflow-x:auto;line-height:normal;font-family:Menlo,'DejaVu Sans Mono',consolas,'Courier New',monospace\"><span style=\"font-weight: bold\">Model: \"sequential\"</span>\n",
              "</pre>\n"
            ]
          },
          "metadata": {}
        },
        {
          "output_type": "display_data",
          "data": {
            "text/plain": [
              "┏━━━━━━━━━━━━━━━━━━━━━━━━━━━━━━━━━━━━━━┳━━━━━━━━━━━━━━━━━━━━━━━━━━━━━┳━━━━━━━━━━━━━━━━━┓\n",
              "┃\u001b[1m \u001b[0m\u001b[1mLayer (type)                        \u001b[0m\u001b[1m \u001b[0m┃\u001b[1m \u001b[0m\u001b[1mOutput Shape               \u001b[0m\u001b[1m \u001b[0m┃\u001b[1m \u001b[0m\u001b[1m        Param #\u001b[0m\u001b[1m \u001b[0m┃\n",
              "┡━━━━━━━━━━━━━━━━━━━━━━━━━━━━━━━━━━━━━━╇━━━━━━━━━━━━━━━━━━━━━━━━━━━━━╇━━━━━━━━━━━━━━━━━┩\n",
              "│ dense (\u001b[38;5;33mDense\u001b[0m)                        │ (\u001b[38;5;45mNone\u001b[0m, \u001b[38;5;34m100\u001b[0m)                 │             \u001b[38;5;34m500\u001b[0m │\n",
              "├──────────────────────────────────────┼─────────────────────────────┼─────────────────┤\n",
              "│ dense_1 (\u001b[38;5;33mDense\u001b[0m)                      │ (\u001b[38;5;45mNone\u001b[0m, \u001b[38;5;34m100\u001b[0m)                 │          \u001b[38;5;34m10,100\u001b[0m │\n",
              "├──────────────────────────────────────┼─────────────────────────────┼─────────────────┤\n",
              "│ dense_2 (\u001b[38;5;33mDense\u001b[0m)                      │ (\u001b[38;5;45mNone\u001b[0m, \u001b[38;5;34m3\u001b[0m)                   │             \u001b[38;5;34m303\u001b[0m │\n",
              "└──────────────────────────────────────┴─────────────────────────────┴─────────────────┘\n"
            ],
            "text/html": [
              "<pre style=\"white-space:pre;overflow-x:auto;line-height:normal;font-family:Menlo,'DejaVu Sans Mono',consolas,'Courier New',monospace\">┏━━━━━━━━━━━━━━━━━━━━━━━━━━━━━━━━━━━━━━┳━━━━━━━━━━━━━━━━━━━━━━━━━━━━━┳━━━━━━━━━━━━━━━━━┓\n",
              "┃<span style=\"font-weight: bold\"> Layer (type)                         </span>┃<span style=\"font-weight: bold\"> Output Shape                </span>┃<span style=\"font-weight: bold\">         Param # </span>┃\n",
              "┡━━━━━━━━━━━━━━━━━━━━━━━━━━━━━━━━━━━━━━╇━━━━━━━━━━━━━━━━━━━━━━━━━━━━━╇━━━━━━━━━━━━━━━━━┩\n",
              "│ dense (<span style=\"color: #0087ff; text-decoration-color: #0087ff\">Dense</span>)                        │ (<span style=\"color: #00d7ff; text-decoration-color: #00d7ff\">None</span>, <span style=\"color: #00af00; text-decoration-color: #00af00\">100</span>)                 │             <span style=\"color: #00af00; text-decoration-color: #00af00\">500</span> │\n",
              "├──────────────────────────────────────┼─────────────────────────────┼─────────────────┤\n",
              "│ dense_1 (<span style=\"color: #0087ff; text-decoration-color: #0087ff\">Dense</span>)                      │ (<span style=\"color: #00d7ff; text-decoration-color: #00d7ff\">None</span>, <span style=\"color: #00af00; text-decoration-color: #00af00\">100</span>)                 │          <span style=\"color: #00af00; text-decoration-color: #00af00\">10,100</span> │\n",
              "├──────────────────────────────────────┼─────────────────────────────┼─────────────────┤\n",
              "│ dense_2 (<span style=\"color: #0087ff; text-decoration-color: #0087ff\">Dense</span>)                      │ (<span style=\"color: #00d7ff; text-decoration-color: #00d7ff\">None</span>, <span style=\"color: #00af00; text-decoration-color: #00af00\">3</span>)                   │             <span style=\"color: #00af00; text-decoration-color: #00af00\">303</span> │\n",
              "└──────────────────────────────────────┴─────────────────────────────┴─────────────────┘\n",
              "</pre>\n"
            ]
          },
          "metadata": {}
        },
        {
          "output_type": "display_data",
          "data": {
            "text/plain": [
              "\u001b[1m Total params: \u001b[0m\u001b[38;5;34m10,903\u001b[0m (42.59 KB)\n"
            ],
            "text/html": [
              "<pre style=\"white-space:pre;overflow-x:auto;line-height:normal;font-family:Menlo,'DejaVu Sans Mono',consolas,'Courier New',monospace\"><span style=\"font-weight: bold\"> Total params: </span><span style=\"color: #00af00; text-decoration-color: #00af00\">10,903</span> (42.59 KB)\n",
              "</pre>\n"
            ]
          },
          "metadata": {}
        },
        {
          "output_type": "display_data",
          "data": {
            "text/plain": [
              "\u001b[1m Trainable params: \u001b[0m\u001b[38;5;34m10,903\u001b[0m (42.59 KB)\n"
            ],
            "text/html": [
              "<pre style=\"white-space:pre;overflow-x:auto;line-height:normal;font-family:Menlo,'DejaVu Sans Mono',consolas,'Courier New',monospace\"><span style=\"font-weight: bold\"> Trainable params: </span><span style=\"color: #00af00; text-decoration-color: #00af00\">10,903</span> (42.59 KB)\n",
              "</pre>\n"
            ]
          },
          "metadata": {}
        },
        {
          "output_type": "display_data",
          "data": {
            "text/plain": [
              "\u001b[1m Non-trainable params: \u001b[0m\u001b[38;5;34m0\u001b[0m (0.00 B)\n"
            ],
            "text/html": [
              "<pre style=\"white-space:pre;overflow-x:auto;line-height:normal;font-family:Menlo,'DejaVu Sans Mono',consolas,'Courier New',monospace\"><span style=\"font-weight: bold\"> Non-trainable params: </span><span style=\"color: #00af00; text-decoration-color: #00af00\">0</span> (0.00 B)\n",
              "</pre>\n"
            ]
          },
          "metadata": {}
        }
      ],
      "source": [
        "model.compile(optimizer='rmsprop', loss='categorical_crossentropy', metrics=['accuracy'])\n",
        "\n",
        "\n",
        "model.summary()\n"
      ]
    },
    {
      "cell_type": "code",
      "execution_count": 38,
      "metadata": {
        "id": "RziNJNwWwz2r"
      },
      "outputs": [],
      "source": [
        "#07-a Train your model using epoch=20, batch=10."
      ]
    },
    {
      "cell_type": "code",
      "execution_count": 39,
      "metadata": {
        "id": "oALCvb_SxD4_",
        "colab": {
          "base_uri": "https://localhost:8080/"
        },
        "outputId": "32336f19-f698-423c-ef39-0f7c49df9ca6"
      },
      "outputs": [
        {
          "output_type": "stream",
          "name": "stdout",
          "text": [
            "Shape of one_hot_train_labels: (120, 3)\n",
            "Shape of one_hot_test_labels: (30, 3)\n",
            "Epoch 1/20\n",
            "\u001b[1m12/12\u001b[0m \u001b[32m━━━━━━━━━━━━━━━━━━━━\u001b[0m\u001b[37m\u001b[0m \u001b[1m1s\u001b[0m 29ms/step - accuracy: 0.4534 - loss: 1.0329 - val_accuracy: 0.9667 - val_loss: 0.7408\n",
            "Epoch 2/20\n",
            "\u001b[1m12/12\u001b[0m \u001b[32m━━━━━━━━━━━━━━━━━━━━\u001b[0m\u001b[37m\u001b[0m \u001b[1m0s\u001b[0m 11ms/step - accuracy: 0.8037 - loss: 0.7365 - val_accuracy: 0.9667 - val_loss: 0.5734\n",
            "Epoch 3/20\n",
            "\u001b[1m12/12\u001b[0m \u001b[32m━━━━━━━━━━━━━━━━━━━━\u001b[0m\u001b[37m\u001b[0m \u001b[1m0s\u001b[0m 8ms/step - accuracy: 0.9067 - loss: 0.6089 - val_accuracy: 0.8667 - val_loss: 0.4660\n",
            "Epoch 4/20\n",
            "\u001b[1m12/12\u001b[0m \u001b[32m━━━━━━━━━━━━━━━━━━━━\u001b[0m\u001b[37m\u001b[0m \u001b[1m0s\u001b[0m 8ms/step - accuracy: 0.8718 - loss: 0.5184 - val_accuracy: 0.7333 - val_loss: 0.4592\n",
            "Epoch 5/20\n",
            "\u001b[1m12/12\u001b[0m \u001b[32m━━━━━━━━━━━━━━━━━━━━\u001b[0m\u001b[37m\u001b[0m \u001b[1m0s\u001b[0m 11ms/step - accuracy: 0.8371 - loss: 0.4664 - val_accuracy: 0.8667 - val_loss: 0.3786\n",
            "Epoch 6/20\n",
            "\u001b[1m12/12\u001b[0m \u001b[32m━━━━━━━━━━━━━━━━━━━━\u001b[0m\u001b[37m\u001b[0m \u001b[1m0s\u001b[0m 9ms/step - accuracy: 0.9222 - loss: 0.4052 - val_accuracy: 0.7333 - val_loss: 0.4316\n",
            "Epoch 7/20\n",
            "\u001b[1m12/12\u001b[0m \u001b[32m━━━━━━━━━━━━━━━━━━━━\u001b[0m\u001b[37m\u001b[0m \u001b[1m0s\u001b[0m 8ms/step - accuracy: 0.9128 - loss: 0.3228 - val_accuracy: 0.8667 - val_loss: 0.2639\n",
            "Epoch 8/20\n",
            "\u001b[1m12/12\u001b[0m \u001b[32m━━━━━━━━━━━━━━━━━━━━\u001b[0m\u001b[37m\u001b[0m \u001b[1m0s\u001b[0m 8ms/step - accuracy: 0.9276 - loss: 0.2974 - val_accuracy: 0.8333 - val_loss: 0.3277\n",
            "Epoch 9/20\n",
            "\u001b[1m12/12\u001b[0m \u001b[32m━━━━━━━━━━━━━━━━━━━━\u001b[0m\u001b[37m\u001b[0m \u001b[1m0s\u001b[0m 8ms/step - accuracy: 0.9258 - loss: 0.2757 - val_accuracy: 0.9000 - val_loss: 0.2637\n",
            "Epoch 10/20\n",
            "\u001b[1m12/12\u001b[0m \u001b[32m━━━━━━━━━━━━━━━━━━━━\u001b[0m\u001b[37m\u001b[0m \u001b[1m0s\u001b[0m 8ms/step - accuracy: 0.9554 - loss: 0.2200 - val_accuracy: 0.8667 - val_loss: 0.2777\n",
            "Epoch 11/20\n",
            "\u001b[1m12/12\u001b[0m \u001b[32m━━━━━━━━━━━━━━━━━━━━\u001b[0m\u001b[37m\u001b[0m \u001b[1m0s\u001b[0m 8ms/step - accuracy: 0.9549 - loss: 0.2023 - val_accuracy: 0.9333 - val_loss: 0.2208\n",
            "Epoch 12/20\n",
            "\u001b[1m12/12\u001b[0m \u001b[32m━━━━━━━━━━━━━━━━━━━━\u001b[0m\u001b[37m\u001b[0m \u001b[1m0s\u001b[0m 9ms/step - accuracy: 0.9487 - loss: 0.1883 - val_accuracy: 0.9667 - val_loss: 0.1838\n",
            "Epoch 13/20\n",
            "\u001b[1m12/12\u001b[0m \u001b[32m━━━━━━━━━━━━━━━━━━━━\u001b[0m\u001b[37m\u001b[0m \u001b[1m0s\u001b[0m 12ms/step - accuracy: 0.9523 - loss: 0.1426 - val_accuracy: 0.8333 - val_loss: 0.3016\n",
            "Epoch 14/20\n",
            "\u001b[1m12/12\u001b[0m \u001b[32m━━━━━━━━━━━━━━━━━━━━\u001b[0m\u001b[37m\u001b[0m \u001b[1m0s\u001b[0m 14ms/step - accuracy: 0.9636 - loss: 0.1516 - val_accuracy: 0.9333 - val_loss: 0.1747\n",
            "Epoch 15/20\n",
            "\u001b[1m12/12\u001b[0m \u001b[32m━━━━━━━━━━━━━━━━━━━━\u001b[0m\u001b[37m\u001b[0m \u001b[1m0s\u001b[0m 11ms/step - accuracy: 0.9780 - loss: 0.1331 - val_accuracy: 0.9000 - val_loss: 0.1921\n",
            "Epoch 16/20\n",
            "\u001b[1m12/12\u001b[0m \u001b[32m━━━━━━━━━━━━━━━━━━━━\u001b[0m\u001b[37m\u001b[0m \u001b[1m0s\u001b[0m 14ms/step - accuracy: 0.9089 - loss: 0.2018 - val_accuracy: 0.9667 - val_loss: 0.1535\n",
            "Epoch 17/20\n",
            "\u001b[1m12/12\u001b[0m \u001b[32m━━━━━━━━━━━━━━━━━━━━\u001b[0m\u001b[37m\u001b[0m \u001b[1m0s\u001b[0m 13ms/step - accuracy: 0.9568 - loss: 0.1554 - val_accuracy: 0.9667 - val_loss: 0.1400\n",
            "Epoch 18/20\n",
            "\u001b[1m12/12\u001b[0m \u001b[32m━━━━━━━━━━━━━━━━━━━━\u001b[0m\u001b[37m\u001b[0m \u001b[1m0s\u001b[0m 14ms/step - accuracy: 0.9586 - loss: 0.1171 - val_accuracy: 0.8333 - val_loss: 0.2384\n",
            "Epoch 19/20\n",
            "\u001b[1m12/12\u001b[0m \u001b[32m━━━━━━━━━━━━━━━━━━━━\u001b[0m\u001b[37m\u001b[0m \u001b[1m0s\u001b[0m 14ms/step - accuracy: 0.9597 - loss: 0.1317 - val_accuracy: 0.9667 - val_loss: 0.1380\n",
            "Epoch 20/20\n",
            "\u001b[1m12/12\u001b[0m \u001b[32m━━━━━━━━━━━━━━━━━━━━\u001b[0m\u001b[37m\u001b[0m \u001b[1m0s\u001b[0m 7ms/step - accuracy: 0.9782 - loss: 0.1112 - val_accuracy: 0.9667 - val_loss: 0.1251\n"
          ]
        }
      ],
      "source": [
        "from sklearn.preprocessing import OneHotEncoder\n",
        "\n",
        "# Initialize the OneHotEncoder with sparse_output=False\n",
        "encoder = OneHotEncoder(sparse_output=False)\n",
        "\n",
        "# Reshape y_train and y_test to be 2D arrays (since they are 1D currently)\n",
        "y_train_reshaped = y_train.values.reshape(-1, 1)\n",
        "y_test_reshaped = y_test.values.reshape(-1, 1)\n",
        "\n",
        "# Apply one-hot encoding to y_train and y_test\n",
        "one_hot_train_labels = encoder.fit_transform(y_train_reshaped)\n",
        "one_hot_test_labels = encoder.transform(y_test_reshaped)\n",
        "\n",
        "# Verify the shape of the one-hot encoded labels\n",
        "print(\"Shape of one_hot_train_labels:\", one_hot_train_labels.shape)  # Should be (120, 3)\n",
        "print(\"Shape of one_hot_test_labels:\", one_hot_test_labels.shape)    # Should be (30, 3)\n",
        "\n",
        "# Now, train the model with 20 epochs and a batch size of 10\n",
        "history = model.fit(x_train, one_hot_train_labels, epochs=20, batch_size=10, validation_data=(x_test, one_hot_test_labels))\n"
      ]
    },
    {
      "cell_type": "code",
      "execution_count": 40,
      "metadata": {
        "id": "iJJ4tXQxxEWc"
      },
      "outputs": [],
      "source": [
        "#08-a Calculate the result, evaluating x_test and one_hot_test_label, and report on the accuracy of your model."
      ]
    },
    {
      "cell_type": "code",
      "execution_count": 41,
      "metadata": {
        "id": "GfnYWxMcxY5F",
        "colab": {
          "base_uri": "https://localhost:8080/"
        },
        "outputId": "aa5a36f3-a5e6-4958-dfb3-f0db8b43891e"
      },
      "outputs": [
        {
          "output_type": "stream",
          "name": "stdout",
          "text": [
            "\u001b[1m1/1\u001b[0m \u001b[32m━━━━━━━━━━━━━━━━━━━━\u001b[0m\u001b[37m\u001b[0m \u001b[1m0s\u001b[0m 199ms/step - accuracy: 0.9667 - loss: 0.1251\n",
            "Test Accuracy: 96.67%\n"
          ]
        }
      ],
      "source": [
        "# Ensure the labels are one-hot encoded\n",
        "one_hot_test_labels = encoder.transform(y_test.values.reshape(-1, 1))\n",
        "\n",
        "# Evaluate the model on the test set and report the accuracy\n",
        "test_loss, test_accuracy = model.evaluate(x_test, one_hot_test_labels)\n",
        "\n",
        "# Print the accuracy of the model on the test data\n",
        "print(f\"Test Accuracy: {test_accuracy * 100:.2f}%\")\n"
      ]
    },
    {
      "cell_type": "code",
      "execution_count": 42,
      "metadata": {
        "id": "mf9Sc3XCxbFV"
      },
      "outputs": [],
      "source": [
        "#09-a Now, we repeat all we have done in #06-a with the following parameters:\n",
        "#     In the first and second hidden layers, use 10 hidden units (neurons) and a 'relu' activation function.\n",
        "#     For the output layer, we need to use 3."
      ]
    },
    {
      "cell_type": "code",
      "execution_count": 43,
      "metadata": {
        "id": "7a9aqyMwx0SF",
        "colab": {
          "base_uri": "https://localhost:8080/"
        },
        "outputId": "ddc31c13-1c69-4889-b15b-7c62daa9ce41"
      },
      "outputs": [
        {
          "output_type": "stream",
          "name": "stderr",
          "text": [
            "/usr/local/lib/python3.11/dist-packages/keras/src/layers/core/dense.py:87: UserWarning: Do not pass an `input_shape`/`input_dim` argument to a layer. When using Sequential models, prefer using an `Input(shape)` object as the first layer in the model instead.\n",
            "  super().__init__(activity_regularizer=activity_regularizer, **kwargs)\n"
          ]
        }
      ],
      "source": [
        "from keras.models import Sequential\n",
        "from keras.layers import Dense\n",
        "\n",
        "# Define the sequential model\n",
        "model = Sequential()\n",
        "\n",
        "# First hidden layer with 10 neurons and 'relu' activation\n",
        "model.add(Dense(10, activation='relu', input_shape=(x_train.shape[1],)))\n",
        "\n",
        "# Second hidden layer with 10 neurons and 'relu' activation\n",
        "model.add(Dense(10, activation='relu'))\n",
        "\n",
        "# Output layer with 3 neurons (one for each class) and 'softmax' activation\n",
        "model.add(Dense(3, activation='softmax'))\n",
        "\n",
        "# Compile the model with 'rmsprop' optimizer and 'categorical_crossentropy' loss function\n",
        "model.compile(optimizer='rmsprop', loss='categorical_crossentropy', metrics=['accuracy'])\n"
      ]
    },
    {
      "cell_type": "code",
      "execution_count": 44,
      "metadata": {
        "id": "XlXCDQ7gx8FM"
      },
      "outputs": [],
      "source": [
        "#09-b Use the same settings as for #06-b (compile using the same optimizer, loss function) and output the accuracy"
      ]
    },
    {
      "cell_type": "code",
      "execution_count": 45,
      "metadata": {
        "id": "HHiCnVpIyFs9",
        "colab": {
          "base_uri": "https://localhost:8080/"
        },
        "outputId": "35c74080-a421-4955-9f59-934c400ad0d8"
      },
      "outputs": [
        {
          "output_type": "stream",
          "name": "stdout",
          "text": [
            "Epoch 1/20\n",
            "\u001b[1m12/12\u001b[0m \u001b[32m━━━━━━━━━━━━━━━━━━━━\u001b[0m\u001b[37m\u001b[0m \u001b[1m2s\u001b[0m 36ms/step - accuracy: 0.3105 - loss: 1.0783 - val_accuracy: 0.6000 - val_loss: 0.8632\n",
            "Epoch 2/20\n",
            "\u001b[1m12/12\u001b[0m \u001b[32m━━━━━━━━━━━━━━━━━━━━\u001b[0m\u001b[37m\u001b[0m \u001b[1m0s\u001b[0m 14ms/step - accuracy: 0.4523 - loss: 0.9570 - val_accuracy: 0.8000 - val_loss: 0.8341\n",
            "Epoch 3/20\n",
            "\u001b[1m12/12\u001b[0m \u001b[32m━━━━━━━━━━━━━━━━━━━━\u001b[0m\u001b[37m\u001b[0m \u001b[1m0s\u001b[0m 14ms/step - accuracy: 0.4829 - loss: 0.9380 - val_accuracy: 0.8000 - val_loss: 0.8147\n",
            "Epoch 4/20\n",
            "\u001b[1m12/12\u001b[0m \u001b[32m━━━━━━━━━━━━━━━━━━━━\u001b[0m\u001b[37m\u001b[0m \u001b[1m0s\u001b[0m 14ms/step - accuracy: 0.6216 - loss: 0.8666 - val_accuracy: 0.8000 - val_loss: 0.7993\n",
            "Epoch 5/20\n",
            "\u001b[1m12/12\u001b[0m \u001b[32m━━━━━━━━━━━━━━━━━━━━\u001b[0m\u001b[37m\u001b[0m \u001b[1m0s\u001b[0m 7ms/step - accuracy: 0.6111 - loss: 0.8511 - val_accuracy: 0.8000 - val_loss: 0.7701\n",
            "Epoch 6/20\n",
            "\u001b[1m12/12\u001b[0m \u001b[32m━━━━━━━━━━━━━━━━━━━━\u001b[0m\u001b[37m\u001b[0m \u001b[1m0s\u001b[0m 7ms/step - accuracy: 0.6517 - loss: 0.8377 - val_accuracy: 0.8000 - val_loss: 0.7444\n",
            "Epoch 7/20\n",
            "\u001b[1m12/12\u001b[0m \u001b[32m━━━━━━━━━━━━━━━━━━━━\u001b[0m\u001b[37m\u001b[0m \u001b[1m0s\u001b[0m 7ms/step - accuracy: 0.6559 - loss: 0.8051 - val_accuracy: 0.8000 - val_loss: 0.7112\n",
            "Epoch 8/20\n",
            "\u001b[1m12/12\u001b[0m \u001b[32m━━━━━━━━━━━━━━━━━━━━\u001b[0m\u001b[37m\u001b[0m \u001b[1m0s\u001b[0m 7ms/step - accuracy: 0.6776 - loss: 0.7841 - val_accuracy: 0.8000 - val_loss: 0.6743\n",
            "Epoch 9/20\n",
            "\u001b[1m12/12\u001b[0m \u001b[32m━━━━━━━━━━━━━━━━━━━━\u001b[0m\u001b[37m\u001b[0m \u001b[1m0s\u001b[0m 7ms/step - accuracy: 0.6691 - loss: 0.7703 - val_accuracy: 0.8000 - val_loss: 0.6413\n",
            "Epoch 10/20\n",
            "\u001b[1m12/12\u001b[0m \u001b[32m━━━━━━━━━━━━━━━━━━━━\u001b[0m\u001b[37m\u001b[0m \u001b[1m0s\u001b[0m 7ms/step - accuracy: 0.7298 - loss: 0.7140 - val_accuracy: 0.8000 - val_loss: 0.6060\n",
            "Epoch 11/20\n",
            "\u001b[1m12/12\u001b[0m \u001b[32m━━━━━━━━━━━━━━━━━━━━\u001b[0m\u001b[37m\u001b[0m \u001b[1m0s\u001b[0m 7ms/step - accuracy: 0.7181 - loss: 0.6933 - val_accuracy: 0.8333 - val_loss: 0.5770\n",
            "Epoch 12/20\n",
            "\u001b[1m12/12\u001b[0m \u001b[32m━━━━━━━━━━━━━━━━━━━━\u001b[0m\u001b[37m\u001b[0m \u001b[1m0s\u001b[0m 11ms/step - accuracy: 0.6895 - loss: 0.6721 - val_accuracy: 0.8667 - val_loss: 0.5411\n",
            "Epoch 13/20\n",
            "\u001b[1m12/12\u001b[0m \u001b[32m━━━━━━━━━━━━━━━━━━━━\u001b[0m\u001b[37m\u001b[0m \u001b[1m0s\u001b[0m 7ms/step - accuracy: 0.8100 - loss: 0.6272 - val_accuracy: 0.8667 - val_loss: 0.5217\n",
            "Epoch 14/20\n",
            "\u001b[1m12/12\u001b[0m \u001b[32m━━━━━━━━━━━━━━━━━━━━\u001b[0m\u001b[37m\u001b[0m \u001b[1m0s\u001b[0m 7ms/step - accuracy: 0.7942 - loss: 0.5957 - val_accuracy: 0.9667 - val_loss: 0.5040\n",
            "Epoch 15/20\n",
            "\u001b[1m12/12\u001b[0m \u001b[32m━━━━━━━━━━━━━━━━━━━━\u001b[0m\u001b[37m\u001b[0m \u001b[1m0s\u001b[0m 7ms/step - accuracy: 0.8568 - loss: 0.5702 - val_accuracy: 0.8667 - val_loss: 0.4816\n",
            "Epoch 16/20\n",
            "\u001b[1m12/12\u001b[0m \u001b[32m━━━━━━━━━━━━━━━━━━━━\u001b[0m\u001b[37m\u001b[0m \u001b[1m0s\u001b[0m 7ms/step - accuracy: 0.8751 - loss: 0.5681 - val_accuracy: 0.8667 - val_loss: 0.4532\n",
            "Epoch 17/20\n",
            "\u001b[1m12/12\u001b[0m \u001b[32m━━━━━━━━━━━━━━━━━━━━\u001b[0m\u001b[37m\u001b[0m \u001b[1m0s\u001b[0m 11ms/step - accuracy: 0.8402 - loss: 0.5640 - val_accuracy: 0.9333 - val_loss: 0.4370\n",
            "Epoch 18/20\n",
            "\u001b[1m12/12\u001b[0m \u001b[32m━━━━━━━━━━━━━━━━━━━━\u001b[0m\u001b[37m\u001b[0m \u001b[1m0s\u001b[0m 8ms/step - accuracy: 0.8838 - loss: 0.5349 - val_accuracy: 0.9333 - val_loss: 0.4201\n",
            "Epoch 19/20\n",
            "\u001b[1m12/12\u001b[0m \u001b[32m━━━━━━━━━━━━━━━━━━━━\u001b[0m\u001b[37m\u001b[0m \u001b[1m0s\u001b[0m 7ms/step - accuracy: 0.9098 - loss: 0.5205 - val_accuracy: 0.9667 - val_loss: 0.4047\n",
            "Epoch 20/20\n",
            "\u001b[1m12/12\u001b[0m \u001b[32m━━━━━━━━━━━━━━━━━━━━\u001b[0m\u001b[37m\u001b[0m \u001b[1m0s\u001b[0m 8ms/step - accuracy: 0.8879 - loss: 0.4865 - val_accuracy: 0.9667 - val_loss: 0.3921\n",
            "\u001b[1m1/1\u001b[0m \u001b[32m━━━━━━━━━━━━━━━━━━━━\u001b[0m\u001b[37m\u001b[0m \u001b[1m0s\u001b[0m 207ms/step - accuracy: 0.9667 - loss: 0.3921\n",
            "Test Accuracy: 96.67%\n"
          ]
        }
      ],
      "source": [
        "# Compile the model with 'rmsprop' optimizer, 'categorical_crossentropy' loss, and 'accuracy' metric\n",
        "model.compile(optimizer='rmsprop', loss='categorical_crossentropy', metrics=['accuracy'])\n",
        "\n",
        "# Train the model with 20 epochs and batch size of 10\n",
        "history = model.fit(x_train, one_hot_train_labels, epochs=20, batch_size=10, validation_data=(x_test, one_hot_test_labels))\n",
        "\n",
        "# Evaluate the model on the test set and report the accuracy\n",
        "test_loss, test_accuracy = model.evaluate(x_test, one_hot_test_labels)\n",
        "\n",
        "# Print the accuracy of the model on the test data\n",
        "print(f\"Test Accuracy: {test_accuracy * 100:.2f}%\")\n"
      ]
    },
    {
      "cell_type": "code",
      "execution_count": 46,
      "metadata": {
        "id": "60JPnxqvyQb0"
      },
      "outputs": [],
      "source": [
        "#09-c Please fit your model using epoch=4, batch=10."
      ]
    },
    {
      "cell_type": "code",
      "execution_count": 47,
      "metadata": {
        "id": "y-RKym7uyaG0",
        "colab": {
          "base_uri": "https://localhost:8080/",
          "height": 449
        },
        "outputId": "c9b5e9e2-8e2e-483b-8f7b-e5dbe7d35de7"
      },
      "outputs": [
        {
          "output_type": "display_data",
          "data": {
            "text/plain": [
              "<Figure size 640x480 with 1 Axes>"
            ],
            "image/png": "[encoded data removed]"
          },
          "metadata": {}
        }
      ],
      "source": [
        "import matplotlib.pyplot as plt\n",
        "\n",
        "# Plot training & validation loss\n",
        "plt.plot(history.history['loss'], label='Train Loss')\n",
        "plt.plot(history.history['val_loss'], label='Validation Loss')\n",
        "plt.xlabel('Epochs')\n",
        "plt.ylabel('Loss')\n",
        "plt.legend()\n",
        "plt.show()\n"
      ]
    },
    {
      "cell_type": "code",
      "execution_count": 48,
      "metadata": {
        "id": "InudSE3fychb"
      },
      "outputs": [],
      "source": [
        "#09-d Calculate the result, evaluating x_test and one_hot_test_label, and report on the accuracy of your model."
      ]
    },
    {
      "cell_type": "code",
      "execution_count": 49,
      "metadata": {
        "id": "23Lr2veHyxUU",
        "colab": {
          "base_uri": "https://localhost:8080/"
        },
        "outputId": "63167c26-c479-484a-da66-06358afc29cf"
      },
      "outputs": [
        {
          "output_type": "stream",
          "name": "stdout",
          "text": [
            "\u001b[1m1/1\u001b[0m \u001b[32m━━━━━━━━━━━━━━━━━━━━\u001b[0m\u001b[37m\u001b[0m \u001b[1m0s\u001b[0m 85ms/step - accuracy: 0.9667 - loss: 0.3921\n",
            "Test Loss: 0.3921\n",
            "Test Accuracy: 96.6667%\n"
          ]
        }
      ],
      "source": [
        "# Assuming your model is already trained\n",
        "loss, accuracy = model.evaluate(x_test, one_hot_test_labels)\n",
        "\n",
        "print(f\"Test Loss: {loss:.4f}\")\n",
        "print(f\"Test Accuracy: {accuracy:.4%}\")  # Convert to percentage\n"
      ]
    },
    {
      "cell_type": "code",
      "execution_count": 50,
      "metadata": {
        "id": "ov5UKqtuyzvb"
      },
      "outputs": [],
      "source": [
        "#10-a In your video submission, explain each line of your code, and the arguments you've used\n",
        "# Ensure to answer the following questions at a minimum:\n",
        "# 10-a-i) How the number of layers or hidden units could impact the accuracy of our model.\n",
        "# 10-a-ii) Do we always suffer from overfitting?\n",
        "# 10-a-iii) How can we detect overfitting?\n",
        "# 10-a-iv) How can we reduce overfitting?"
      ]
    },
    {
      "cell_type": "code",
      "execution_count": 51,
      "metadata": {
        "id": "wjl8cvkazc_p"
      },
      "outputs": [],
      "source": [
        "#10-b\n",
        "# Use different settings than the ones we chose in #09\n",
        "# Change each of the following once:\n",
        "#   i)   optimizer\n",
        "#   ii)  number of layers\n",
        "#   iii) hidden units\n",
        "#   iv)  number of epochs\n",
        "#   v)   batch_size\n",
        "# Change one parameter at a time, and rerun the cell(s), then explain the output"
      ]
    },
    {
      "cell_type": "markdown",
      "metadata": {
        "id": "N5b2shyIdhiv"
      },
      "source": [
        "---\n",
        "# Deliverables:\n",
        "1. Submit the current ipynb file on D2L\n",
        "2. Please record and upload to YouTube 3-6 minute recorded video clip (aim for 5 minutes) describing the answers to the questions above, espcially #10.\n",
        "\n",
        "Notes:\n",
        "- In your submission, YOU MUST SUBMIT A LINK TO YOUR YOUTUBE VIDEO as a TEXT SUBMISSION SECTION on your D2L submission.\n",
        "- Omitting this D2L comment will result in a 0% for your total mark."
      ]
    }
  ],
  "metadata": {
    "colab": {
      "provenance": [],
      "include_colab_link": true
    },
    "kernelspec": {
      "display_name": "Python 3",
      "name": "python3"
    }
  },
  "nbformat": 4,
  "nbformat_minor": 0
}